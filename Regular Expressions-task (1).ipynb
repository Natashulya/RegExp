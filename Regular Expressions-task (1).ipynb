{
 "cells": [
  {
   "cell_type": "code",
   "execution_count": 1,
   "id": "2b3c8c03",
   "metadata": {},
   "outputs": [],
   "source": [
    "#Task1"
   ]
  },
  {
   "cell_type": "code",
   "execution_count": 2,
   "id": "dbcf3eed",
   "metadata": {},
   "outputs": [],
   "source": [
    "import re"
   ]
  },
  {
   "cell_type": "code",
   "execution_count": null,
   "id": "9db22f7a",
   "metadata": {},
   "outputs": [],
   "source": [
    "number_car=input('Введите гос номер')\n",
    "def print_num_reg(number):\n",
    "    regex_number='^[АВЕКМНОРСТУХ]\\d{3}(?<!000)[АВЕКМНОРСТУХ]{2}\\d{2,3}'\n",
    "    if re.match(regex_number, number):\n",
    "        print('Номер {} правильный'.format(number))\n",
    "        regex=r'\\d+'\n",
    "        number_and_region=re.findall(regex, number)\n",
    "        return number_and_region\n",
    "    else:\n",
    "        print ('Номер неверный!')\n",
    "print_num_reg(number_car)"
   ]
  },
  {
   "cell_type": "code",
   "execution_count": null,
   "id": "13ba61d5",
   "metadata": {},
   "outputs": [],
   "source": [
    "#Task3"
   ]
  },
  {
   "cell_type": "code",
   "execution_count": null,
   "id": "dd3e199f",
   "metadata": {},
   "outputs": [],
   "source": [
    "import re\n",
    "print_str=input()\n",
    "def print_acronym(string):\n",
    "    regex=r'(\\b\\w)'\n",
    "    list_find=re.findall(regex, string)\n",
    "    str_find=''.join(list_find)\n",
    "    return (str_find)\n",
    "print_acronym(print_str)"
   ]
  },
  {
   "cell_type": "code",
   "execution_count": null,
   "id": "3584c6e4",
   "metadata": {},
   "outputs": [],
   "source": [
    "#Task2"
   ]
  },
  {
   "cell_type": "code",
   "execution_count": null,
   "id": "dda5f8ac",
   "metadata": {},
   "outputs": [],
   "source": [
    "def regex_replay(string):\n",
    "    regex=r'(.+?)\\1+'\n",
    "    result=re.sub(regex, r'\\1',string)\n",
    "    return result\n",
    "regex_replay('too be be the was were were be be be be were were')"
   ]
  },
  {
   "cell_type": "code",
   "execution_count": null,
   "id": "08fa01f7",
   "metadata": {},
   "outputs": [],
   "source": [
    "#Task4"
   ]
  },
  {
   "cell_type": "code",
   "execution_count": 8,
   "id": "e1c5cfa8",
   "metadata": {},
   "outputs": [],
   "source": [
    "import re"
   ]
  },
  {
   "cell_type": "code",
   "execution_count": null,
   "id": "1bfb1b3a",
   "metadata": {},
   "outputs": [],
   "source": [
    "#проверка на валидность\n",
    "email=input()\n",
    "def email_check(email_entered):\n",
    "    email_rendex='(^|\\s)[-a-z0-9_.]+@([-a-z0-9]+\\.)+[a-z]{2,6}(\\s|$)'\n",
    "    if re.match(email_rendex, email_entered):\n",
    "        print('Email верный {}'.format(email_entered))\n",
    "    else:\n",
    "        print ('Неверная информация!')\n",
    "email_check(email)"
   ]
  },
  {
   "cell_type": "code",
   "execution_count": null,
   "id": "575c3b37",
   "metadata": {},
   "outputs": [],
   "source": [
    "#группировка по доменным зонам\n",
    "domain = re.search('@((\\w|\\w[\\w\\-]*?\\w)\\.\\w+)', email).group(1)"
   ]
  },
  {
   "cell_type": "code",
   "execution_count": null,
   "id": "a13b5dcd",
   "metadata": {},
   "outputs": [],
   "source": [
    "#Task6"
   ]
  },
  {
   "cell_type": "code",
   "execution_count": null,
   "id": "c6ca381a",
   "metadata": {},
   "outputs": [],
   "source": [
    "numbers=[\n",
    "    '+1 555 555-55-55',\n",
    "    '6555555555',\n",
    "    '555555555',\n",
    "    '8(555)555-55-55',\n",
    "    '+7 555 555 55 55',\n",
    "    '7(555) 555-55-55',\n",
    "    '+7 555+555+55+55'\n",
    "]\n",
    "def val_number(data):\n",
    "    for val in numbers:\n",
    "        rendex=r'(8|\\+7|7)(\\s*)?(\\+)?([- _():=+]?\\d[- _():=+]?){10}(\\s*)?' \n",
    "        if re.search(rendex, val):\n",
    "            rendex_num='\\d'\n",
    "            number=re.findall(rendex_num, val)\n",
    "            print ('+7-({})-{}-{}-{}'.format(''.join(number[1:4]),''.join(number[4:7]),''.join(number[7:8]),''.join(number[8:9])))\n",
    "val_number(numbers)"
   ]
  },
  {
   "cell_type": "code",
   "execution_count": null,
   "id": "c8590ec6",
   "metadata": {},
   "outputs": [],
   "source": []
  }
 ],
 "metadata": {
  "kernelspec": {
   "display_name": "Python 3",
   "language": "python",
   "name": "python3"
  },
  "language_info": {
   "codemirror_mode": {
    "name": "ipython",
    "version": 3
   },
   "file_extension": ".py",
   "mimetype": "text/x-python",
   "name": "python",
   "nbconvert_exporter": "python",
   "pygments_lexer": "ipython3",
   "version": "3.8.8"
  }
 },
 "nbformat": 4,
 "nbformat_minor": 5
}
